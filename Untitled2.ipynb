{
  "nbformat": 4,
  "nbformat_minor": 0,
  "metadata": {
    "colab": {
      "name": "Untitled2.ipynb",
      "provenance": [],
      "mount_file_id": "1_L8ZLsMM1YHW8fvbqOJTOXgiNY5KPnCx",
      "authorship_tag": "ABX9TyMa1RoH7VApGoaKT9psTD9+",
      "include_colab_link": true
    },
    "kernelspec": {
      "name": "python3",
      "display_name": "Python 3"
    },
    "language_info": {
      "name": "python"
    },
    "accelerator": "GPU"
  },
  "cells": [
    {
      "cell_type": "markdown",
      "metadata": {
        "id": "view-in-github",
        "colab_type": "text"
      },
      "source": [
        "<a href=\"https://colab.research.google.com/github/radhikaAP18110010188/Air-quality-analysis-and-forecasting/blob/main/Untitled2.ipynb\" target=\"_parent\"><img src=\"https://colab.research.google.com/assets/colab-badge.svg\" alt=\"Open In Colab\"/></a>"
      ]
    },
    {
      "cell_type": "code",
      "metadata": {
        "id": "RBtf2Jz5lGwQ"
      },
      "source": [
        "#Importing the required libraries\n",
        "\n",
        "import os\n",
        "import pandas as pd\n",
        "import numpy as np\n",
        "import matplotlib.pyplot as plt\n",
        "import seaborn as sns\n",
        "from datetime import datetime\n",
        "# Ignore harmless warnings\n",
        "import warnings\n",
        "warnings.filterwarnings(\"ignore\")\n",
        "from IPython.display import HTML,display\n",
        "\n",
        "warnings.filterwarnings(\"ignore\")"
      ],
      "execution_count": null,
      "outputs": []
    },
    {
      "cell_type": "code",
      "metadata": {
        "id": "-AomjYIJle71"
      },
      "source": [
        "#Read the daily city-wise data\n",
        "df= pd.read_csv(\"/content/drive/MyDrive/air-quality-dataset/city_day.csv\",parse_dates=True)\n",
        "df['Date'] = pd.to_datetime(df['Date'])"
      ],
      "execution_count": null,
      "outputs": []
    },
    {
      "cell_type": "code",
      "metadata": {
        "id": "QSolFD-3lvci"
      },
      "source": [
        "#Keeping only the columns needed\n",
        "df=df[['City','Date','AQI']]"
      ],
      "execution_count": null,
      "outputs": []
    },
    {
      "cell_type": "code",
      "metadata": {
        "id": "RP-t1o6bl3FY"
      },
      "source": [
        "delhi = df[df['City'] == 'Delhi']\n",
        "delhi.drop(['City'],axis=1,inplace = True)\n",
        "delhi.set_index('Date', inplace = True)"
      ],
      "execution_count": null,
      "outputs": []
    },
    {
      "cell_type": "code",
      "metadata": {
        "colab": {
          "base_uri": "https://localhost:8080/",
          "height": 455
        },
        "id": "a28gIj19l6p2",
        "outputId": "84a9d7c0-dc35-4ab6-a049-b0eba92a5c00"
      },
      "source": [
        "delhi"
      ],
      "execution_count": null,
      "outputs": [
        {
          "output_type": "execute_result",
          "data": {
            "text/html": [
              "<div>\n",
              "<style scoped>\n",
              "    .dataframe tbody tr th:only-of-type {\n",
              "        vertical-align: middle;\n",
              "    }\n",
              "\n",
              "    .dataframe tbody tr th {\n",
              "        vertical-align: top;\n",
              "    }\n",
              "\n",
              "    .dataframe thead th {\n",
              "        text-align: right;\n",
              "    }\n",
              "</style>\n",
              "<table border=\"1\" class=\"dataframe\">\n",
              "  <thead>\n",
              "    <tr style=\"text-align: right;\">\n",
              "      <th></th>\n",
              "      <th>AQI</th>\n",
              "    </tr>\n",
              "    <tr>\n",
              "      <th>Date</th>\n",
              "      <th></th>\n",
              "    </tr>\n",
              "  </thead>\n",
              "  <tbody>\n",
              "    <tr>\n",
              "      <th>2015-01-01</th>\n",
              "      <td>472.0</td>\n",
              "    </tr>\n",
              "    <tr>\n",
              "      <th>2015-01-02</th>\n",
              "      <td>454.0</td>\n",
              "    </tr>\n",
              "    <tr>\n",
              "      <th>2015-01-03</th>\n",
              "      <td>143.0</td>\n",
              "    </tr>\n",
              "    <tr>\n",
              "      <th>2015-01-04</th>\n",
              "      <td>319.0</td>\n",
              "    </tr>\n",
              "    <tr>\n",
              "      <th>2015-01-05</th>\n",
              "      <td>325.0</td>\n",
              "    </tr>\n",
              "    <tr>\n",
              "      <th>...</th>\n",
              "      <td>...</td>\n",
              "    </tr>\n",
              "    <tr>\n",
              "      <th>2020-06-27</th>\n",
              "      <td>112.0</td>\n",
              "    </tr>\n",
              "    <tr>\n",
              "      <th>2020-06-28</th>\n",
              "      <td>196.0</td>\n",
              "    </tr>\n",
              "    <tr>\n",
              "      <th>2020-06-29</th>\n",
              "      <td>233.0</td>\n",
              "    </tr>\n",
              "    <tr>\n",
              "      <th>2020-06-30</th>\n",
              "      <td>114.0</td>\n",
              "    </tr>\n",
              "    <tr>\n",
              "      <th>2020-07-01</th>\n",
              "      <td>101.0</td>\n",
              "    </tr>\n",
              "  </tbody>\n",
              "</table>\n",
              "<p>2009 rows × 1 columns</p>\n",
              "</div>"
            ],
            "text/plain": [
              "              AQI\n",
              "Date             \n",
              "2015-01-01  472.0\n",
              "2015-01-02  454.0\n",
              "2015-01-03  143.0\n",
              "2015-01-04  319.0\n",
              "2015-01-05  325.0\n",
              "...           ...\n",
              "2020-06-27  112.0\n",
              "2020-06-28  196.0\n",
              "2020-06-29  233.0\n",
              "2020-06-30  114.0\n",
              "2020-07-01  101.0\n",
              "\n",
              "[2009 rows x 1 columns]"
            ]
          },
          "metadata": {},
          "execution_count": 5
        }
      ]
    },
    {
      "cell_type": "code",
      "metadata": {
        "id": "5E3l5npll8hL"
      },
      "source": [
        "#Fill NULL DATA\n",
        "delhi['AQI'].fillna(method = 'bfill',inplace = True)"
      ],
      "execution_count": null,
      "outputs": []
    },
    {
      "cell_type": "code",
      "metadata": {
        "id": "egkFAC6il8u4"
      },
      "source": [
        "#Taking monthly average\n",
        "delhi=delhi.astype('float64')\n",
        "delhi=delhi.resample(rule='MS').mean()"
      ],
      "execution_count": null,
      "outputs": []
    },
    {
      "cell_type": "code",
      "metadata": {
        "id": "BkcDn5OEmGTw"
      },
      "source": [
        "#Taking monthly average\n",
        "delhi=delhi.astype('float64')\n",
        "delhi=delhi.resample(rule='MS').mean()"
      ],
      "execution_count": null,
      "outputs": []
    },
    {
      "cell_type": "code",
      "metadata": {
        "colab": {
          "base_uri": "https://localhost:8080/",
          "height": 497
        },
        "id": "_l4xaCH0mGec",
        "outputId": "1245a934-e473-445c-b4d9-e87733910b48"
      },
      "source": [
        "ax=delhi[['AQI']].plot(figsize=(12,8),grid=True,lw=2,color='Red')\n",
        "ax.autoscale(enable=True, axis='both', tight=True)"
      ],
      "execution_count": null,
      "outputs": [
        {
          "output_type": "display_data",
          "data": {
            "image/png": "[encoded data removed]",
            "text/plain": [
              "<Figure size 864x576 with 1 Axes>"
            ]
          },
          "metadata": {
            "needs_background": "light"
          }
        }
      ]
    },
    {
      "cell_type": "code",
      "metadata": {
        "id": "slFiHWFMmLw8"
      },
      "source": [
        "from statsmodels.tsa.seasonal import seasonal_decompose\n",
        "from sklearn.metrics import mean_squared_error"
      ],
      "execution_count": null,
      "outputs": []
    },
    {
      "cell_type": "code",
      "metadata": {
        "colab": {
          "base_uri": "https://localhost:8080/",
          "height": 298
        },
        "id": "j7iE__SYmL5c",
        "outputId": "47b5c8be-8946-4c82-b606-fbc61d151f2e"
      },
      "source": [
        "delhi_AQI=delhi['AQI']\n",
        "result=seasonal_decompose(delhi_AQI,model='multiplicative')\n",
        "result.plot();"
      ],
      "execution_count": null,
      "outputs": [
        {
          "output_type": "display_data",
          "data": {
            "image/png": "[encoded data removed]",
            "text/plain": [
              "<Figure size 432x288 with 4 Axes>"
            ]
          },
          "metadata": {
            "needs_background": "light"
          }
        }
      ]
    },
    {
      "cell_type": "code",
      "metadata": {
        "id": "GVU_XjqwmT9Y"
      },
      "source": [
        "#Splitting the training and testing data\n",
        "\n",
        "train=delhi[:48]\n",
        "test=delhi[48:61]"
      ],
      "execution_count": null,
      "outputs": []
    },
    {
      "cell_type": "code",
      "metadata": {
        "colab": {
          "base_uri": "https://localhost:8080/"
        },
        "id": "xHnkWqermUAQ",
        "outputId": "474bdb49-fb34-4071-912c-c03ab160c1e5"
      },
      "source": [
        "type(train)"
      ],
      "execution_count": null,
      "outputs": [
        {
          "output_type": "execute_result",
          "data": {
            "text/plain": [
              "pandas.core.frame.DataFrame"
            ]
          },
          "metadata": {},
          "execution_count": 13
        }
      ]
    },
    {
      "cell_type": "code",
      "metadata": {
        "colab": {
          "base_uri": "https://localhost:8080/"
        },
        "id": "1w5uGGLGmfI9",
        "outputId": "e56fcd64-d973-4d31-d79e-ebaa40eb4cf8"
      },
      "source": [
        "#print(\"Shape of train data:\" + str(train.array.shape))\n",
        "#print(\"Shape of test data:\" + str(test.array.shape))\n",
        "\n",
        "print(\"Shape of train data:\" + str(train.shape))\n",
        "print(\"Shape of test data:\" + str(test.shape))"
      ],
      "execution_count": null,
      "outputs": [
        {
          "output_type": "stream",
          "name": "stdout",
          "text": [
            "Shape of train data:(48, 1)\n",
            "Shape of test data:(13, 1)\n"
          ]
        }
      ]
    },
    {
      "cell_type": "code",
      "metadata": {
        "id": "vaVbT-w3mfMC"
      },
      "source": [
        "#train_arr=np.expand_dims(train, axis=1)\n",
        "#test_arr=np.expand_dims(test, axis=1)\n",
        "\n",
        "train_arr = train\n",
        "test_arr = test"
      ],
      "execution_count": null,
      "outputs": []
    },
    {
      "cell_type": "code",
      "metadata": {
        "colab": {
          "base_uri": "https://localhost:8080/",
          "height": 1000
        },
        "id": "kK2aYSmEmfan",
        "outputId": "9bd2a3c6-28f7-4cf5-c28a-9507bd86a0a2"
      },
      "source": [
        "train_arr"
      ],
      "execution_count": null,
      "outputs": [
        {
          "output_type": "execute_result",
          "data": {
            "text/html": [
              "<div>\n",
              "<style scoped>\n",
              "    .dataframe tbody tr th:only-of-type {\n",
              "        vertical-align: middle;\n",
              "    }\n",
              "\n",
              "    .dataframe tbody tr th {\n",
              "        vertical-align: top;\n",
              "    }\n",
              "\n",
              "    .dataframe thead th {\n",
              "        text-align: right;\n",
              "    }\n",
              "</style>\n",
              "<table border=\"1\" class=\"dataframe\">\n",
              "  <thead>\n",
              "    <tr style=\"text-align: right;\">\n",
              "      <th></th>\n",
              "      <th>AQI</th>\n",
              "    </tr>\n",
              "    <tr>\n",
              "      <th>Date</th>\n",
              "      <th></th>\n",
              "    </tr>\n",
              "  </thead>\n",
              "  <tbody>\n",
              "    <tr>\n",
              "      <th>2015-01-01</th>\n",
              "      <td>342.290323</td>\n",
              "    </tr>\n",
              "    <tr>\n",
              "      <th>2015-02-01</th>\n",
              "      <td>327.928571</td>\n",
              "    </tr>\n",
              "    <tr>\n",
              "      <th>2015-03-01</th>\n",
              "      <td>256.064516</td>\n",
              "    </tr>\n",
              "    <tr>\n",
              "      <th>2015-04-01</th>\n",
              "      <td>305.266667</td>\n",
              "    </tr>\n",
              "    <tr>\n",
              "      <th>2015-05-01</th>\n",
              "      <td>348.580645</td>\n",
              "    </tr>\n",
              "    <tr>\n",
              "      <th>2015-06-01</th>\n",
              "      <td>258.333333</td>\n",
              "    </tr>\n",
              "    <tr>\n",
              "      <th>2015-07-01</th>\n",
              "      <td>200.290323</td>\n",
              "    </tr>\n",
              "    <tr>\n",
              "      <th>2015-08-01</th>\n",
              "      <td>218.064516</td>\n",
              "    </tr>\n",
              "    <tr>\n",
              "      <th>2015-09-01</th>\n",
              "      <td>225.300000</td>\n",
              "    </tr>\n",
              "    <tr>\n",
              "      <th>2015-10-01</th>\n",
              "      <td>325.000000</td>\n",
              "    </tr>\n",
              "    <tr>\n",
              "      <th>2015-11-01</th>\n",
              "      <td>405.033333</td>\n",
              "    </tr>\n",
              "    <tr>\n",
              "      <th>2015-12-01</th>\n",
              "      <td>355.322581</td>\n",
              "    </tr>\n",
              "    <tr>\n",
              "      <th>2016-01-01</th>\n",
              "      <td>441.903226</td>\n",
              "    </tr>\n",
              "    <tr>\n",
              "      <th>2016-02-01</th>\n",
              "      <td>312.448276</td>\n",
              "    </tr>\n",
              "    <tr>\n",
              "      <th>2016-03-01</th>\n",
              "      <td>230.096774</td>\n",
              "    </tr>\n",
              "    <tr>\n",
              "      <th>2016-04-01</th>\n",
              "      <td>290.666667</td>\n",
              "    </tr>\n",
              "    <tr>\n",
              "      <th>2016-05-01</th>\n",
              "      <td>268.354839</td>\n",
              "    </tr>\n",
              "    <tr>\n",
              "      <th>2016-06-01</th>\n",
              "      <td>243.733333</td>\n",
              "    </tr>\n",
              "    <tr>\n",
              "      <th>2016-07-01</th>\n",
              "      <td>165.935484</td>\n",
              "    </tr>\n",
              "    <tr>\n",
              "      <th>2016-08-01</th>\n",
              "      <td>147.419355</td>\n",
              "    </tr>\n",
              "    <tr>\n",
              "      <th>2016-09-01</th>\n",
              "      <td>218.700000</td>\n",
              "    </tr>\n",
              "    <tr>\n",
              "      <th>2016-10-01</th>\n",
              "      <td>411.064516</td>\n",
              "    </tr>\n",
              "    <tr>\n",
              "      <th>2016-11-01</th>\n",
              "      <td>474.833333</td>\n",
              "    </tr>\n",
              "    <tr>\n",
              "      <th>2016-12-01</th>\n",
              "      <td>409.290323</td>\n",
              "    </tr>\n",
              "    <tr>\n",
              "      <th>2017-01-01</th>\n",
              "      <td>354.193548</td>\n",
              "    </tr>\n",
              "    <tr>\n",
              "      <th>2017-02-01</th>\n",
              "      <td>343.928571</td>\n",
              "    </tr>\n",
              "    <tr>\n",
              "      <th>2017-03-01</th>\n",
              "      <td>282.258065</td>\n",
              "    </tr>\n",
              "    <tr>\n",
              "      <th>2017-04-01</th>\n",
              "      <td>316.800000</td>\n",
              "    </tr>\n",
              "    <tr>\n",
              "      <th>2017-05-01</th>\n",
              "      <td>315.419355</td>\n",
              "    </tr>\n",
              "    <tr>\n",
              "      <th>2017-06-01</th>\n",
              "      <td>143.633333</td>\n",
              "    </tr>\n",
              "    <tr>\n",
              "      <th>2017-07-01</th>\n",
              "      <td>67.161290</td>\n",
              "    </tr>\n",
              "    <tr>\n",
              "      <th>2017-08-01</th>\n",
              "      <td>67.645161</td>\n",
              "    </tr>\n",
              "    <tr>\n",
              "      <th>2017-09-01</th>\n",
              "      <td>114.666667</td>\n",
              "    </tr>\n",
              "    <tr>\n",
              "      <th>2017-10-01</th>\n",
              "      <td>284.161290</td>\n",
              "    </tr>\n",
              "    <tr>\n",
              "      <th>2017-11-01</th>\n",
              "      <td>406.733333</td>\n",
              "    </tr>\n",
              "    <tr>\n",
              "      <th>2017-12-01</th>\n",
              "      <td>337.129032</td>\n",
              "    </tr>\n",
              "    <tr>\n",
              "      <th>2018-01-01</th>\n",
              "      <td>349.741935</td>\n",
              "    </tr>\n",
              "    <tr>\n",
              "      <th>2018-02-01</th>\n",
              "      <td>289.178571</td>\n",
              "    </tr>\n",
              "    <tr>\n",
              "      <th>2018-03-01</th>\n",
              "      <td>234.129032</td>\n",
              "    </tr>\n",
              "    <tr>\n",
              "      <th>2018-04-01</th>\n",
              "      <td>245.533333</td>\n",
              "    </tr>\n",
              "    <tr>\n",
              "      <th>2018-05-01</th>\n",
              "      <td>235.322581</td>\n",
              "    </tr>\n",
              "    <tr>\n",
              "      <th>2018-06-01</th>\n",
              "      <td>224.366667</td>\n",
              "    </tr>\n",
              "    <tr>\n",
              "      <th>2018-07-01</th>\n",
              "      <td>112.419355</td>\n",
              "    </tr>\n",
              "    <tr>\n",
              "      <th>2018-08-01</th>\n",
              "      <td>122.064516</td>\n",
              "    </tr>\n",
              "    <tr>\n",
              "      <th>2018-09-01</th>\n",
              "      <td>121.933333</td>\n",
              "    </tr>\n",
              "    <tr>\n",
              "      <th>2018-10-01</th>\n",
              "      <td>290.419355</td>\n",
              "    </tr>\n",
              "    <tr>\n",
              "      <th>2018-11-01</th>\n",
              "      <td>367.066667</td>\n",
              "    </tr>\n",
              "    <tr>\n",
              "      <th>2018-12-01</th>\n",
              "      <td>400.387097</td>\n",
              "    </tr>\n",
              "  </tbody>\n",
              "</table>\n",
              "</div>"
            ],
            "text/plain": [
              "                   AQI\n",
              "Date                  \n",
              "2015-01-01  342.290323\n",
              "2015-02-01  327.928571\n",
              "2015-03-01  256.064516\n",
              "2015-04-01  305.266667\n",
              "2015-05-01  348.580645\n",
              "2015-06-01  258.333333\n",
              "2015-07-01  200.290323\n",
              "2015-08-01  218.064516\n",
              "2015-09-01  225.300000\n",
              "2015-10-01  325.000000\n",
              "2015-11-01  405.033333\n",
              "2015-12-01  355.322581\n",
              "2016-01-01  441.903226\n",
              "2016-02-01  312.448276\n",
              "2016-03-01  230.096774\n",
              "2016-04-01  290.666667\n",
              "2016-05-01  268.354839\n",
              "2016-06-01  243.733333\n",
              "2016-07-01  165.935484\n",
              "2016-08-01  147.419355\n",
              "2016-09-01  218.700000\n",
              "2016-10-01  411.064516\n",
              "2016-11-01  474.833333\n",
              "2016-12-01  409.290323\n",
              "2017-01-01  354.193548\n",
              "2017-02-01  343.928571\n",
              "2017-03-01  282.258065\n",
              "2017-04-01  316.800000\n",
              "2017-05-01  315.419355\n",
              "2017-06-01  143.633333\n",
              "2017-07-01   67.161290\n",
              "2017-08-01   67.645161\n",
              "2017-09-01  114.666667\n",
              "2017-10-01  284.161290\n",
              "2017-11-01  406.733333\n",
              "2017-12-01  337.129032\n",
              "2018-01-01  349.741935\n",
              "2018-02-01  289.178571\n",
              "2018-03-01  234.129032\n",
              "2018-04-01  245.533333\n",
              "2018-05-01  235.322581\n",
              "2018-06-01  224.366667\n",
              "2018-07-01  112.419355\n",
              "2018-08-01  122.064516\n",
              "2018-09-01  121.933333\n",
              "2018-10-01  290.419355\n",
              "2018-11-01  367.066667\n",
              "2018-12-01  400.387097"
            ]
          },
          "metadata": {},
          "execution_count": 16
        }
      ]
    },
    {
      "cell_type": "code",
      "metadata": {
        "colab": {
          "base_uri": "https://localhost:8080/"
        },
        "id": "szlNCCvtmpa9",
        "outputId": "53c87053-3caf-442b-898d-8bfb9d4afc68"
      },
      "source": [
        "#Preprocessing the dataset\n",
        "\n",
        "from sklearn.preprocessing import MinMaxScaler\n",
        "scaler = MinMaxScaler()\n",
        "\n",
        "scaler.fit(train_arr)"
      ],
      "execution_count": null,
      "outputs": [
        {
          "output_type": "execute_result",
          "data": {
            "text/plain": [
              "MinMaxScaler()"
            ]
          },
          "metadata": {},
          "execution_count": 17
        }
      ]
    },
    {
      "cell_type": "code",
      "metadata": {
        "id": "vLS2VPsrmptZ"
      },
      "source": [
        "scaled_train = scaler.transform(train_arr)\n",
        "scaled_test = scaler.transform(test_arr)"
      ],
      "execution_count": null,
      "outputs": []
    },
    {
      "cell_type": "code",
      "metadata": {
        "id": "XTXt0c1smp5n"
      },
      "source": [
        "#Defining our time series generator that would be used to parse data into the model\n",
        "\n",
        "from keras.preprocessing.sequence import TimeseriesGenerator\n",
        "n_input = 12\n",
        "n_features = 1\n",
        "generator = TimeseriesGenerator(scaled_train, scaled_train, length=n_input, batch_size=1)"
      ],
      "execution_count": null,
      "outputs": []
    },
    {
      "cell_type": "code",
      "metadata": {
        "colab": {
          "base_uri": "https://localhost:8080/"
        },
        "id": "EdB3a86tm2gM",
        "outputId": "49f678e0-b629-4190-86fb-e226e415a463"
      },
      "source": [
        "X,y = generator[0]\n",
        "print(f'Given the Array: \\n{X.flatten()}')\n",
        "print(f'Predict this y: \\n {y}')"
      ],
      "execution_count": null,
      "outputs": [
        {
          "output_type": "stream",
          "name": "stdout",
          "text": [
            "Given the Array: \n",
            "[0.67487834 0.63964965 0.46337057 0.58406109 0.6903082  0.46893587\n",
            " 0.32655914 0.37015839 0.38790668 0.63246601 0.82878394 0.70684585]\n",
            "Predict this y: \n",
            " [[0.91922402]]\n"
          ]
        }
      ]
    },
    {
      "cell_type": "code",
      "metadata": {
        "id": "w4n8uvdPpZqc"
      },
      "source": [
        "import tensorflow"
      ],
      "execution_count": null,
      "outputs": []
    },
    {
      "cell_type": "code",
      "metadata": {
        "id": "FEjKDhnMpd9P"
      },
      "source": [
        "\n",
        "from tensorflow.keras.optimizers import Adam"
      ],
      "execution_count": null,
      "outputs": []
    },
    {
      "cell_type": "code",
      "metadata": {
        "id": "Ok6hVCgYp66W"
      },
      "source": [
        "#Importing the necessary components to define our model\n",
        "\n",
        "from keras.models import Sequential\n",
        "from keras.layers import Dense\n",
        "from keras.layers import LSTM\n",
        "from keras.layers import Dropout\n",
        "from tensorflow.keras.optimizers import Adam"
      ],
      "execution_count": null,
      "outputs": []
    },
    {
      "cell_type": "code",
      "metadata": {
        "colab": {
          "base_uri": "https://localhost:8080/"
        },
        "id": "OQi1Yyaru8lh",
        "outputId": "c1265c99-45c2-4fab-a569-6323bdb8e792"
      },
      "source": [
        "# defining the stacked LSTM model\n",
        "model = Sequential(name = 'LSTM-Model')\n",
        "model.add(LSTM(32, activation='relu', return_sequences = True, input_shape=(n_input, n_features),name = \"LSTM_1\"))\n",
        "#model.add(LSTM(100, activation='relu', return_sequences = True,name = \"LSTM_2\"))\n",
        "#model.add(Dropout(0.2))\n",
        "model.add(LSTM(32, activation='relu',name = \"LSTM_2\"))\n",
        "#model.add(Dropout(0.2))\n",
        "#model.add(Dense(8))\n",
        "model.add(Dense(1,name = \"DENSE_1\"))\n",
        "model.compile(optimizer= 'adam',  loss='mse', metrics= 'accuracy')\n",
        "\n",
        "model.summary()"
      ],
      "execution_count": null,
      "outputs": [
        {
          "output_type": "stream",
          "name": "stdout",
          "text": [
            "WARNING:tensorflow:Layer LSTM_1 will not use cuDNN kernels since it doesn't meet the criteria. It will use a generic GPU kernel as fallback when running on GPU.\n",
            "WARNING:tensorflow:Layer LSTM_2 will not use cuDNN kernels since it doesn't meet the criteria. It will use a generic GPU kernel as fallback when running on GPU.\n",
            "Model: \"LSTM-Model\"\n",
            "_________________________________________________________________\n",
            " Layer (type)                Output Shape              Param #   \n",
            "=================================================================\n",
            " LSTM_1 (LSTM)               (None, 12, 32)            4352      \n",
            "                                                                 \n",
            " LSTM_2 (LSTM)               (None, 32)                8320      \n",
            "                                                                 \n",
            " DENSE_1 (Dense)             (None, 1)                 33        \n",
            "                                                                 \n",
            "=================================================================\n",
            "Total params: 12,705\n",
            "Trainable params: 12,705\n",
            "Non-trainable params: 0\n",
            "_________________________________________________________________\n"
          ]
        }
      ]
    },
    {
      "cell_type": "code",
      "metadata": {
        "colab": {
          "base_uri": "https://localhost:8080/",
          "height": 422
        },
        "id": "JRcRCmmVqJR4",
        "outputId": "86c9873e-5304-4cd7-bb09-1bd3fd3e1a56"
      },
      "source": [
        "#Plotting the layer structure\n",
        "from tensorflow.keras.utils import plot_model\n",
        "plot_model(model,show_shapes=True,show_layer_names=True,rankdir=\"TB\",dpi=96)"
      ],
      "execution_count": null,
      "outputs": [
        {
          "output_type": "execute_result",
          "data": {
            "image/png": "[encoded data removed]",
            "text/plain": [
              "<IPython.core.display.Image object>"
            ]
          },
          "metadata": {},
          "execution_count": 25
        }
      ]
    },
    {
      "cell_type": "code",
      "metadata": {
        "colab": {
          "base_uri": "https://localhost:8080/"
        },
        "id": "chSYGRWsvMeM",
        "outputId": "025d6848-63ad-41c6-f92a-4c295533d906"
      },
      "source": [
        "#Fitting our model\n",
        "model.fit_generator(generator,epochs=200)"
      ],
      "execution_count": null,
      "outputs": [
        {
          "output_type": "stream",
          "name": "stdout",
          "text": [
            "Epoch 1/200\n",
            "36/36 [==============================] - 7s 71ms/step - loss: 0.1767 - accuracy: 0.0278\n",
            "Epoch 2/200\n",
            "36/36 [==============================] - 3s 74ms/step - loss: 0.0875 - accuracy: 0.0000e+00\n",
            "Epoch 3/200\n",
            "36/36 [==============================] - 3s 71ms/step - loss: 0.0774 - accuracy: 0.0278\n",
            "Epoch 4/200\n",
            "36/36 [==============================] - 2s 68ms/step - loss: 0.0830 - accuracy: 0.0000e+00\n",
            "Epoch 5/200\n",
            "36/36 [==============================] - 3s 74ms/step - loss: 0.0762 - accuracy: 0.0278\n",
            "Epoch 6/200\n",
            "36/36 [==============================] - 3s 73ms/step - loss: 0.0778 - accuracy: 0.0000e+00\n",
            "Epoch 7/200\n",
            "36/36 [==============================] - 3s 75ms/step - loss: 0.0728 - accuracy: 0.0000e+00\n",
            "Epoch 8/200\n",
            "36/36 [==============================] - 3s 69ms/step - loss: 0.0713 - accuracy: 0.0278\n",
            "Epoch 9/200\n",
            "36/36 [==============================] - 3s 74ms/step - loss: 0.0793 - accuracy: 0.0278\n",
            "Epoch 10/200\n",
            "36/36 [==============================] - 2s 68ms/step - loss: 0.0710 - accuracy: 0.0278\n",
            "Epoch 11/200\n",
            "36/36 [==============================] - 3s 70ms/step - loss: 0.0699 - accuracy: 0.0278\n",
            "Epoch 12/200\n",
            "36/36 [==============================] - 3s 79ms/step - loss: 0.1000 - accuracy: 0.0278\n",
            "Epoch 13/200\n",
            "36/36 [==============================] - 3s 82ms/step - loss: 0.0754 - accuracy: 0.0000e+00\n",
            "Epoch 14/200\n",
            "36/36 [==============================] - 3s 77ms/step - loss: 0.0725 - accuracy: 0.0278\n",
            "Epoch 15/200\n",
            "36/36 [==============================] - 3s 77ms/step - loss: 0.0672 - accuracy: 0.0278\n",
            "Epoch 16/200\n",
            "36/36 [==============================] - 3s 70ms/step - loss: 0.0687 - accuracy: 0.0556\n",
            "Epoch 17/200\n",
            "36/36 [==============================] - 3s 71ms/step - loss: 0.0616 - accuracy: 0.0278\n",
            "Epoch 18/200\n",
            "36/36 [==============================] - 3s 74ms/step - loss: 0.0588 - accuracy: 0.0556\n",
            "Epoch 19/200\n",
            "36/36 [==============================] - 3s 73ms/step - loss: 0.0495 - accuracy: 0.0556\n",
            "Epoch 20/200\n",
            "36/36 [==============================] - 3s 87ms/step - loss: 0.0589 - accuracy: 0.0556\n",
            "Epoch 21/200\n",
            "36/36 [==============================] - 3s 77ms/step - loss: 0.0435 - accuracy: 0.0556\n",
            "Epoch 22/200\n",
            "36/36 [==============================] - 3s 77ms/step - loss: 0.0384 - accuracy: 0.0556\n",
            "Epoch 23/200\n",
            "36/36 [==============================] - 3s 75ms/step - loss: 0.0390 - accuracy: 0.0556\n",
            "Epoch 24/200\n",
            "36/36 [==============================] - 3s 73ms/step - loss: 0.0474 - accuracy: 0.0556\n",
            "Epoch 25/200\n",
            "36/36 [==============================] - 3s 76ms/step - loss: 0.0368 - accuracy: 0.0556\n",
            "Epoch 26/200\n",
            "36/36 [==============================] - 3s 82ms/step - loss: 0.0351 - accuracy: 0.0556\n",
            "Epoch 27/200\n",
            "36/36 [==============================] - 3s 76ms/step - loss: 0.0598 - accuracy: 0.0556\n",
            "Epoch 28/200\n",
            "36/36 [==============================] - 3s 71ms/step - loss: 0.0626 - accuracy: 0.0556\n",
            "Epoch 29/200\n",
            "36/36 [==============================] - 3s 75ms/step - loss: 0.0463 - accuracy: 0.0556\n",
            "Epoch 30/200\n",
            "36/36 [==============================] - 2s 68ms/step - loss: 0.0333 - accuracy: 0.0556\n",
            "Epoch 31/200\n",
            "36/36 [==============================] - 3s 74ms/step - loss: 0.0285 - accuracy: 0.0556\n",
            "Epoch 32/200\n",
            "36/36 [==============================] - 3s 78ms/step - loss: 0.0316 - accuracy: 0.0556\n",
            "Epoch 33/200\n",
            "36/36 [==============================] - 3s 83ms/step - loss: 0.0300 - accuracy: 0.0556\n",
            "Epoch 34/200\n",
            "36/36 [==============================] - 3s 72ms/step - loss: 0.0370 - accuracy: 0.0556\n",
            "Epoch 35/200\n",
            "36/36 [==============================] - 3s 69ms/step - loss: 0.0280 - accuracy: 0.0556\n",
            "Epoch 36/200\n",
            "36/36 [==============================] - 3s 76ms/step - loss: 0.0278 - accuracy: 0.0556\n",
            "Epoch 37/200\n",
            "36/36 [==============================] - 3s 71ms/step - loss: 0.0316 - accuracy: 0.0556\n",
            "Epoch 38/200\n",
            "36/36 [==============================] - 3s 86ms/step - loss: 0.0288 - accuracy: 0.0556\n",
            "Epoch 39/200\n",
            "36/36 [==============================] - 3s 73ms/step - loss: 0.0305 - accuracy: 0.0556\n",
            "Epoch 40/200\n",
            "36/36 [==============================] - 3s 69ms/step - loss: 0.0269 - accuracy: 0.0556\n",
            "Epoch 41/200\n",
            "36/36 [==============================] - 3s 71ms/step - loss: 0.0265 - accuracy: 0.0556\n",
            "Epoch 42/200\n",
            "36/36 [==============================] - 3s 73ms/step - loss: 0.0282 - accuracy: 0.0556\n",
            "Epoch 43/200\n",
            "36/36 [==============================] - 3s 70ms/step - loss: 0.0277 - accuracy: 0.0556\n",
            "Epoch 44/200\n",
            "36/36 [==============================] - 3s 77ms/step - loss: 0.0355 - accuracy: 0.0556\n",
            "Epoch 45/200\n",
            "36/36 [==============================] - 3s 78ms/step - loss: 0.0268 - accuracy: 0.0556\n",
            "Epoch 46/200\n",
            "36/36 [==============================] - 3s 74ms/step - loss: 0.0251 - accuracy: 0.0556\n",
            "Epoch 47/200\n",
            "36/36 [==============================] - 3s 71ms/step - loss: 0.0274 - accuracy: 0.0556\n",
            "Epoch 48/200\n",
            "36/36 [==============================] - 3s 75ms/step - loss: 0.0302 - accuracy: 0.0556\n",
            "Epoch 49/200\n",
            "36/36 [==============================] - 3s 75ms/step - loss: 0.0330 - accuracy: 0.0556\n",
            "Epoch 50/200\n",
            "36/36 [==============================] - 3s 73ms/step - loss: 0.0242 - accuracy: 0.0556\n",
            "Epoch 51/200\n",
            "36/36 [==============================] - 3s 73ms/step - loss: 0.0278 - accuracy: 0.0556\n",
            "Epoch 52/200\n",
            "36/36 [==============================] - 3s 79ms/step - loss: 0.0302 - accuracy: 0.0556\n",
            "Epoch 53/200\n",
            "36/36 [==============================] - 3s 78ms/step - loss: 0.0253 - accuracy: 0.0556\n",
            "Epoch 54/200\n",
            "36/36 [==============================] - 2s 68ms/step - loss: 0.0226 - accuracy: 0.0556\n",
            "Epoch 55/200\n",
            "36/36 [==============================] - 3s 79ms/step - loss: 0.0258 - accuracy: 0.0556\n",
            "Epoch 56/200\n",
            "36/36 [==============================] - 3s 70ms/step - loss: 0.0249 - accuracy: 0.0556\n",
            "Epoch 57/200\n",
            "36/36 [==============================] - 3s 72ms/step - loss: 0.0194 - accuracy: 0.0556\n",
            "Epoch 58/200\n",
            "36/36 [==============================] - 3s 75ms/step - loss: 0.0264 - accuracy: 0.0556\n",
            "Epoch 59/200\n",
            "36/36 [==============================] - 3s 71ms/step - loss: 0.0192 - accuracy: 0.0556\n",
            "Epoch 60/200\n",
            "36/36 [==============================] - 3s 71ms/step - loss: 0.0274 - accuracy: 0.0556\n",
            "Epoch 61/200\n",
            "36/36 [==============================] - 3s 70ms/step - loss: 0.0224 - accuracy: 0.0556\n",
            "Epoch 62/200\n",
            "36/36 [==============================] - 3s 82ms/step - loss: 0.0186 - accuracy: 0.0556\n",
            "Epoch 63/200\n",
            "36/36 [==============================] - 3s 73ms/step - loss: 0.0172 - accuracy: 0.0556\n",
            "Epoch 64/200\n",
            "36/36 [==============================] - 3s 71ms/step - loss: 0.0146 - accuracy: 0.0556\n",
            "Epoch 65/200\n",
            "36/36 [==============================] - 2s 69ms/step - loss: 0.0166 - accuracy: 0.0556\n",
            "Epoch 66/200\n",
            "36/36 [==============================] - 2s 66ms/step - loss: 0.0151 - accuracy: 0.0556\n",
            "Epoch 67/200\n",
            "36/36 [==============================] - 2s 68ms/step - loss: 0.0149 - accuracy: 0.0556\n",
            "Epoch 68/200\n",
            "36/36 [==============================] - 2s 68ms/step - loss: 0.0144 - accuracy: 0.0556\n",
            "Epoch 69/200\n",
            "36/36 [==============================] - 3s 70ms/step - loss: 0.0136 - accuracy: 0.0556\n",
            "Epoch 70/200\n",
            "36/36 [==============================] - 3s 71ms/step - loss: 0.0147 - accuracy: 0.0556\n",
            "Epoch 71/200\n",
            "36/36 [==============================] - 3s 74ms/step - loss: 0.0138 - accuracy: 0.0556\n",
            "Epoch 72/200\n",
            "36/36 [==============================] - 3s 77ms/step - loss: 0.0169 - accuracy: 0.0556\n",
            "Epoch 73/200\n",
            "36/36 [==============================] - 3s 72ms/step - loss: 0.0139 - accuracy: 0.0556\n",
            "Epoch 74/200\n",
            "36/36 [==============================] - 3s 82ms/step - loss: 0.0127 - accuracy: 0.0556\n",
            "Epoch 75/200\n",
            "36/36 [==============================] - 3s 76ms/step - loss: 0.0123 - accuracy: 0.0556\n",
            "Epoch 76/200\n",
            "36/36 [==============================] - 3s 71ms/step - loss: 0.0156 - accuracy: 0.0556\n",
            "Epoch 77/200\n",
            "36/36 [==============================] - 2s 67ms/step - loss: 0.0144 - accuracy: 0.0556\n",
            "Epoch 78/200\n",
            "36/36 [==============================] - 3s 79ms/step - loss: 0.0126 - accuracy: 0.0556\n",
            "Epoch 79/200\n",
            "36/36 [==============================] - 3s 75ms/step - loss: 0.0129 - accuracy: 0.0556\n",
            "Epoch 80/200\n",
            "36/36 [==============================] - 3s 73ms/step - loss: 0.0152 - accuracy: 0.0556\n",
            "Epoch 81/200\n",
            "36/36 [==============================] - 2s 67ms/step - loss: 0.0160 - accuracy: 0.0556\n",
            "Epoch 82/200\n",
            "36/36 [==============================] - 3s 69ms/step - loss: 0.0143 - accuracy: 0.0556\n",
            "Epoch 83/200\n",
            "36/36 [==============================] - 3s 71ms/step - loss: 0.0120 - accuracy: 0.0556\n",
            "Epoch 84/200\n",
            "36/36 [==============================] - 3s 76ms/step - loss: 0.0116 - accuracy: 0.0556\n",
            "Epoch 85/200\n",
            "36/36 [==============================] - 3s 74ms/step - loss: 0.0128 - accuracy: 0.0556\n",
            "Epoch 86/200\n",
            "36/36 [==============================] - 3s 72ms/step - loss: 0.0106 - accuracy: 0.0556\n",
            "Epoch 87/200\n",
            "36/36 [==============================] - 2s 69ms/step - loss: 0.0109 - accuracy: 0.0556\n",
            "Epoch 88/200\n",
            "36/36 [==============================] - 3s 80ms/step - loss: 0.0116 - accuracy: 0.0556\n",
            "Epoch 89/200\n",
            "36/36 [==============================] - 3s 71ms/step - loss: 0.0119 - accuracy: 0.0556\n",
            "Epoch 90/200\n",
            "36/36 [==============================] - 3s 69ms/step - loss: 0.0103 - accuracy: 0.0556\n",
            "Epoch 91/200\n",
            "36/36 [==============================] - 3s 74ms/step - loss: 0.0096 - accuracy: 0.0556\n",
            "Epoch 92/200\n",
            "36/36 [==============================] - 3s 72ms/step - loss: 0.0130 - accuracy: 0.0556\n",
            "Epoch 93/200\n",
            "36/36 [==============================] - 3s 73ms/step - loss: 0.0111 - accuracy: 0.0556\n",
            "Epoch 94/200\n",
            "36/36 [==============================] - 3s 74ms/step - loss: 0.0137 - accuracy: 0.0556\n",
            "Epoch 95/200\n",
            "36/36 [==============================] - 3s 72ms/step - loss: 0.0119 - accuracy: 0.0556\n",
            "Epoch 96/200\n",
            "36/36 [==============================] - 3s 70ms/step - loss: 0.0154 - accuracy: 0.0556\n",
            "Epoch 97/200\n",
            "36/36 [==============================] - 3s 73ms/step - loss: 0.0092 - accuracy: 0.0556\n",
            "Epoch 98/200\n",
            "36/36 [==============================] - 3s 74ms/step - loss: 0.0098 - accuracy: 0.0556\n",
            "Epoch 99/200\n",
            "36/36 [==============================] - 3s 76ms/step - loss: 0.0101 - accuracy: 0.0556\n",
            "Epoch 100/200\n",
            "36/36 [==============================] - 3s 73ms/step - loss: 0.0134 - accuracy: 0.0556\n",
            "Epoch 101/200\n",
            "36/36 [==============================] - 3s 75ms/step - loss: 0.0112 - accuracy: 0.0556\n",
            "Epoch 102/200\n",
            "36/36 [==============================] - 3s 76ms/step - loss: 0.0096 - accuracy: 0.0556\n",
            "Epoch 103/200\n",
            "36/36 [==============================] - 3s 76ms/step - loss: 0.0134 - accuracy: 0.0556\n",
            "Epoch 104/200\n",
            "36/36 [==============================] - 3s 71ms/step - loss: 0.0104 - accuracy: 0.0556\n",
            "Epoch 105/200\n",
            "36/36 [==============================] - 3s 76ms/step - loss: 0.0190 - accuracy: 0.0556\n",
            "Epoch 106/200\n",
            "36/36 [==============================] - 3s 76ms/step - loss: 0.0113 - accuracy: 0.0556\n",
            "Epoch 107/200\n",
            "36/36 [==============================] - 3s 75ms/step - loss: 0.0086 - accuracy: 0.0556\n",
            "Epoch 108/200\n",
            "36/36 [==============================] - 3s 75ms/step - loss: 0.0086 - accuracy: 0.0556\n",
            "Epoch 109/200\n",
            "36/36 [==============================] - 3s 70ms/step - loss: 0.0083 - accuracy: 0.0556\n",
            "Epoch 110/200\n",
            "36/36 [==============================] - 3s 78ms/step - loss: 0.0083 - accuracy: 0.0556\n",
            "Epoch 111/200\n",
            "36/36 [==============================] - 3s 70ms/step - loss: 0.0101 - accuracy: 0.0556\n",
            "Epoch 112/200\n",
            "36/36 [==============================] - 3s 71ms/step - loss: 0.0115 - accuracy: 0.0556\n",
            "Epoch 113/200\n",
            "36/36 [==============================] - 3s 74ms/step - loss: 0.0106 - accuracy: 0.0556\n",
            "Epoch 114/200\n",
            "36/36 [==============================] - 3s 70ms/step - loss: 0.0089 - accuracy: 0.0556\n",
            "Epoch 115/200\n",
            "36/36 [==============================] - 3s 77ms/step - loss: 0.0080 - accuracy: 0.0556\n",
            "Epoch 116/200\n",
            "36/36 [==============================] - 3s 71ms/step - loss: 0.0082 - accuracy: 0.0556\n",
            "Epoch 117/200\n",
            "36/36 [==============================] - 3s 72ms/step - loss: 0.0087 - accuracy: 0.0556\n",
            "Epoch 118/200\n",
            "36/36 [==============================] - 3s 75ms/step - loss: 0.0093 - accuracy: 0.0556\n",
            "Epoch 119/200\n",
            "36/36 [==============================] - 3s 72ms/step - loss: 0.0112 - accuracy: 0.0556\n",
            "Epoch 120/200\n",
            "36/36 [==============================] - 3s 74ms/step - loss: 0.0094 - accuracy: 0.0556\n",
            "Epoch 121/200\n",
            "36/36 [==============================] - 3s 73ms/step - loss: 0.0114 - accuracy: 0.0556\n",
            "Epoch 122/200\n",
            "36/36 [==============================] - 2s 69ms/step - loss: 0.0094 - accuracy: 0.0556\n",
            "Epoch 123/200\n",
            "36/36 [==============================] - 3s 78ms/step - loss: 0.0107 - accuracy: 0.0556\n",
            "Epoch 124/200\n",
            "36/36 [==============================] - 3s 69ms/step - loss: 0.0091 - accuracy: 0.0556\n",
            "Epoch 125/200\n",
            "36/36 [==============================] - 2s 69ms/step - loss: 0.0085 - accuracy: 0.0556\n",
            "Epoch 126/200\n",
            "36/36 [==============================] - 3s 78ms/step - loss: 0.0077 - accuracy: 0.0556\n",
            "Epoch 127/200\n",
            "36/36 [==============================] - 3s 72ms/step - loss: 0.0091 - accuracy: 0.0556\n",
            "Epoch 128/200\n",
            "36/36 [==============================] - 3s 70ms/step - loss: 0.0084 - accuracy: 0.0556\n",
            "Epoch 129/200\n",
            "36/36 [==============================] - 3s 73ms/step - loss: 0.0081 - accuracy: 0.0556\n",
            "Epoch 130/200\n",
            "36/36 [==============================] - 3s 71ms/step - loss: 0.0073 - accuracy: 0.0556\n",
            "Epoch 131/200\n",
            "36/36 [==============================] - 3s 74ms/step - loss: 0.0117 - accuracy: 0.0556\n",
            "Epoch 132/200\n",
            "36/36 [==============================] - 2s 69ms/step - loss: 0.0077 - accuracy: 0.0556\n",
            "Epoch 133/200\n",
            "36/36 [==============================] - 3s 71ms/step - loss: 0.0080 - accuracy: 0.0556\n",
            "Epoch 134/200\n",
            "36/36 [==============================] - 3s 73ms/step - loss: 0.0090 - accuracy: 0.0556\n",
            "Epoch 135/200\n",
            "36/36 [==============================] - 3s 70ms/step - loss: 0.0101 - accuracy: 0.0556\n",
            "Epoch 136/200\n",
            "36/36 [==============================] - 3s 75ms/step - loss: 0.0094 - accuracy: 0.0556\n",
            "Epoch 137/200\n",
            "36/36 [==============================] - 3s 76ms/step - loss: 0.0070 - accuracy: 0.0556\n",
            "Epoch 138/200\n",
            "36/36 [==============================] - 3s 70ms/step - loss: 0.0082 - accuracy: 0.0556\n",
            "Epoch 139/200\n",
            "36/36 [==============================] - 3s 75ms/step - loss: 0.0071 - accuracy: 0.0556\n",
            "Epoch 140/200\n",
            "36/36 [==============================] - 3s 73ms/step - loss: 0.0069 - accuracy: 0.0556\n",
            "Epoch 141/200\n",
            "36/36 [==============================] - 3s 73ms/step - loss: 0.0083 - accuracy: 0.0556\n",
            "Epoch 142/200\n",
            "36/36 [==============================] - 3s 71ms/step - loss: 0.0096 - accuracy: 0.0556\n",
            "Epoch 143/200\n",
            "36/36 [==============================] - 3s 72ms/step - loss: 0.0069 - accuracy: 0.0556\n",
            "Epoch 144/200\n",
            "36/36 [==============================] - 2s 67ms/step - loss: 0.0070 - accuracy: 0.0556\n",
            "Epoch 145/200\n",
            "36/36 [==============================] - 2s 66ms/step - loss: 0.0058 - accuracy: 0.0556\n",
            "Epoch 146/200\n",
            "36/36 [==============================] - 2s 69ms/step - loss: 0.0068 - accuracy: 0.0556\n",
            "Epoch 147/200\n",
            "36/36 [==============================] - 3s 73ms/step - loss: 0.0070 - accuracy: 0.0556\n",
            "Epoch 148/200\n",
            "36/36 [==============================] - 3s 72ms/step - loss: 0.0062 - accuracy: 0.0556\n",
            "Epoch 149/200\n",
            "36/36 [==============================] - 3s 73ms/step - loss: 0.0084 - accuracy: 0.0556\n",
            "Epoch 150/200\n",
            "36/36 [==============================] - 2s 68ms/step - loss: 0.0075 - accuracy: 0.0556\n",
            "Epoch 151/200\n",
            "36/36 [==============================] - 3s 74ms/step - loss: 0.0061 - accuracy: 0.0556\n",
            "Epoch 152/200\n",
            "36/36 [==============================] - 2s 66ms/step - loss: 0.0076 - accuracy: 0.0556\n",
            "Epoch 153/200\n",
            "36/36 [==============================] - 3s 69ms/step - loss: 0.0069 - accuracy: 0.0556\n",
            "Epoch 154/200\n",
            "36/36 [==============================] - 3s 70ms/step - loss: 0.0074 - accuracy: 0.0556\n",
            "Epoch 155/200\n",
            "36/36 [==============================] - 2s 69ms/step - loss: 0.0078 - accuracy: 0.0556\n",
            "Epoch 156/200\n",
            "36/36 [==============================] - 2s 69ms/step - loss: 0.0063 - accuracy: 0.0556\n",
            "Epoch 157/200\n",
            "36/36 [==============================] - 3s 75ms/step - loss: 0.0082 - accuracy: 0.0556\n",
            "Epoch 158/200\n",
            "36/36 [==============================] - 3s 78ms/step - loss: 0.0073 - accuracy: 0.0556\n",
            "Epoch 159/200\n",
            "36/36 [==============================] - 3s 72ms/step - loss: 0.0061 - accuracy: 0.0556\n",
            "Epoch 160/200\n",
            "36/36 [==============================] - 3s 73ms/step - loss: 0.0066 - accuracy: 0.0556\n",
            "Epoch 161/200\n",
            "36/36 [==============================] - 3s 75ms/step - loss: 0.0074 - accuracy: 0.0556\n",
            "Epoch 162/200\n",
            "36/36 [==============================] - 2s 66ms/step - loss: 0.0082 - accuracy: 0.0556\n",
            "Epoch 163/200\n",
            "36/36 [==============================] - 3s 76ms/step - loss: 0.0067 - accuracy: 0.0556\n",
            "Epoch 164/200\n",
            "36/36 [==============================] - 3s 72ms/step - loss: 0.0070 - accuracy: 0.0556\n",
            "Epoch 165/200\n",
            "36/36 [==============================] - 3s 91ms/step - loss: 0.0116 - accuracy: 0.0556\n",
            "Epoch 166/200\n",
            "36/36 [==============================] - 2s 67ms/step - loss: 0.0062 - accuracy: 0.0556\n",
            "Epoch 167/200\n",
            "36/36 [==============================] - 3s 69ms/step - loss: 0.0067 - accuracy: 0.0556\n",
            "Epoch 168/200\n",
            "36/36 [==============================] - 3s 76ms/step - loss: 0.0084 - accuracy: 0.0556\n",
            "Epoch 169/200\n",
            "36/36 [==============================] - 3s 73ms/step - loss: 0.0056 - accuracy: 0.0556\n",
            "Epoch 170/200\n",
            "36/36 [==============================] - 3s 72ms/step - loss: 0.0054 - accuracy: 0.0556\n",
            "Epoch 171/200\n",
            "36/36 [==============================] - 3s 71ms/step - loss: 0.0068 - accuracy: 0.0556\n",
            "Epoch 172/200\n",
            "36/36 [==============================] - 3s 78ms/step - loss: 0.0079 - accuracy: 0.0556\n",
            "Epoch 173/200\n",
            "36/36 [==============================] - 3s 72ms/step - loss: 0.0070 - accuracy: 0.0556\n",
            "Epoch 174/200\n",
            "36/36 [==============================] - 3s 77ms/step - loss: 0.0070 - accuracy: 0.0556\n",
            "Epoch 175/200\n",
            "36/36 [==============================] - 3s 69ms/step - loss: 0.0058 - accuracy: 0.0556\n",
            "Epoch 176/200\n",
            "36/36 [==============================] - 3s 77ms/step - loss: 0.0049 - accuracy: 0.0556\n",
            "Epoch 177/200\n",
            "36/36 [==============================] - 3s 72ms/step - loss: 0.0070 - accuracy: 0.0556\n",
            "Epoch 178/200\n",
            "36/36 [==============================] - 3s 73ms/step - loss: 0.0072 - accuracy: 0.0556\n",
            "Epoch 179/200\n",
            "36/36 [==============================] - 3s 71ms/step - loss: 0.0060 - accuracy: 0.0556\n",
            "Epoch 180/200\n",
            "36/36 [==============================] - 3s 79ms/step - loss: 0.0069 - accuracy: 0.0556\n",
            "Epoch 181/200\n",
            "36/36 [==============================] - 3s 72ms/step - loss: 0.0095 - accuracy: 0.0556\n",
            "Epoch 182/200\n",
            "36/36 [==============================] - 2s 69ms/step - loss: 0.0096 - accuracy: 0.0556\n",
            "Epoch 183/200\n",
            "36/36 [==============================] - 3s 70ms/step - loss: 0.0062 - accuracy: 0.0556\n",
            "Epoch 184/200\n",
            "36/36 [==============================] - 3s 79ms/step - loss: 0.0064 - accuracy: 0.0556\n",
            "Epoch 185/200\n",
            "36/36 [==============================] - 3s 72ms/step - loss: 0.0090 - accuracy: 0.0556\n",
            "Epoch 186/200\n",
            "36/36 [==============================] - 3s 77ms/step - loss: 0.0071 - accuracy: 0.0556\n",
            "Epoch 187/200\n",
            "36/36 [==============================] - 3s 72ms/step - loss: 0.0047 - accuracy: 0.0556\n",
            "Epoch 188/200\n",
            "36/36 [==============================] - 3s 75ms/step - loss: 0.0048 - accuracy: 0.0556\n",
            "Epoch 189/200\n",
            "36/36 [==============================] - 3s 71ms/step - loss: 0.0067 - accuracy: 0.0556\n",
            "Epoch 190/200\n",
            "36/36 [==============================] - 3s 77ms/step - loss: 0.0054 - accuracy: 0.0556\n",
            "Epoch 191/200\n",
            "36/36 [==============================] - 3s 71ms/step - loss: 0.0051 - accuracy: 0.0556\n",
            "Epoch 192/200\n",
            "36/36 [==============================] - 3s 76ms/step - loss: 0.0067 - accuracy: 0.0556\n",
            "Epoch 193/200\n",
            "36/36 [==============================] - 3s 72ms/step - loss: 0.0063 - accuracy: 0.0556\n",
            "Epoch 194/200\n",
            "36/36 [==============================] - 3s 73ms/step - loss: 0.0066 - accuracy: 0.0556\n",
            "Epoch 195/200\n",
            "36/36 [==============================] - 3s 77ms/step - loss: 0.0063 - accuracy: 0.0556\n",
            "Epoch 196/200\n",
            "36/36 [==============================] - 3s 72ms/step - loss: 0.0052 - accuracy: 0.0556\n",
            "Epoch 197/200\n",
            "36/36 [==============================] - 3s 78ms/step - loss: 0.0052 - accuracy: 0.0556\n",
            "Epoch 198/200\n",
            "36/36 [==============================] - 3s 72ms/step - loss: 0.0053 - accuracy: 0.0556\n",
            "Epoch 199/200\n",
            "36/36 [==============================] - 3s 79ms/step - loss: 0.0047 - accuracy: 0.0556\n",
            "Epoch 200/200\n",
            "36/36 [==============================] - 3s 73ms/step - loss: 0.0052 - accuracy: 0.0556\n"
          ]
        },
        {
          "output_type": "execute_result",
          "data": {
            "text/plain": [
              "<keras.callbacks.History at 0x7fbe801f1710>"
            ]
          },
          "metadata": {},
          "execution_count": 26
        }
      ]
    },
    {
      "cell_type": "code",
      "metadata": {
        "colab": {
          "base_uri": "https://localhost:8080/",
          "height": 282
        },
        "id": "tvQN6s6Jx1eD",
        "outputId": "2fbcf6fe-fa36-48a8-c365-f2f65d0bc306"
      },
      "source": [
        "#plotting the loss vs #of epoch \n",
        "loss_per_epoch = model.history.history['loss']\n",
        "plt.plot(range(len(loss_per_epoch)),loss_per_epoch)"
      ],
      "execution_count": null,
      "outputs": [
        {
          "output_type": "execute_result",
          "data": {
            "text/plain": [
              "[<matplotlib.lines.Line2D at 0x7fbe80130b50>]"
            ]
          },
          "metadata": {},
          "execution_count": 27
        },
        {
          "output_type": "display_data",
          "data": {
            "image/png": "[encoded data removed]",
            "text/plain": [
              "<Figure size 432x288 with 1 Axes>"
            ]
          },
          "metadata": {
            "needs_background": "light"
          }
        }
      ]
    },
    {
      "cell_type": "code",
      "metadata": {
        "id": "6YYI8oU4x96j"
      },
      "source": [
        "#Predicting using our model on the testing dataset\n",
        "test_predictions = []\n",
        "\n",
        "first_batch = scaled_train[-n_input:]\n",
        "current_batch = first_batch.reshape((1, n_input, n_features))\n",
        "\n",
        "for i in range(len(test)):\n",
        "      \n",
        "    current_pred = model.predict(current_batch)[0]\n",
        "    test_predictions.append(current_pred) \n",
        "    \n",
        "    current_batch = np.append(current_batch[:,1:,:],[[current_pred]],axis=1)"
      ],
      "execution_count": null,
      "outputs": []
    },
    {
      "cell_type": "code",
      "metadata": {
        "id": "aEZQ3kFoyDOA"
      },
      "source": [
        "test_predictions = scaler.inverse_transform(test_predictions)"
      ],
      "execution_count": null,
      "outputs": []
    },
    {
      "cell_type": "code",
      "metadata": {
        "colab": {
          "base_uri": "https://localhost:8080/"
        },
        "id": "UQPiZZB0yDQ4",
        "outputId": "a3ab98c0-a3dc-41fb-c272-4eb222e7acfb"
      },
      "source": [
        "print(test_predictions.shape)\n",
        "print(test_arr.shape)"
      ],
      "execution_count": null,
      "outputs": [
        {
          "output_type": "stream",
          "name": "stdout",
          "text": [
            "(13, 1)\n",
            "(13, 1)\n"
          ]
        }
      ]
    },
    {
      "cell_type": "code",
      "metadata": {
        "id": "VzorZxdJyIE5"
      },
      "source": [
        "test_arr['Predictions'] = test_predictions"
      ],
      "execution_count": null,
      "outputs": []
    },
    {
      "cell_type": "code",
      "metadata": {
        "colab": {
          "base_uri": "https://localhost:8080/",
          "height": 282
        },
        "id": "z1evljCwyIRk",
        "outputId": "c3bb3362-b6aa-4021-8ee7-a50f28c33986"
      },
      "source": [
        "#Plotting the true values vs predicted values on testing dataset\n",
        "plt.plot(test_arr['AQI'],label = 'AQI')\n",
        "plt.plot(test_arr['Predictions'],label = 'Predictions')\n",
        "\n",
        "plt.legend()"
      ],
      "execution_count": null,
      "outputs": [
        {
          "output_type": "execute_result",
          "data": {
            "text/plain": [
              "<matplotlib.legend.Legend at 0x7fbe80064890>"
            ]
          },
          "metadata": {},
          "execution_count": 32
        },
        {
          "output_type": "display_data",
          "data": {
            "image/png": "[encoded data removed]",
            "text/plain": [
              "<Figure size 432x288 with 1 Axes>"
            ]
          },
          "metadata": {
            "needs_background": "light"
          }
        }
      ]
    },
    {
      "cell_type": "code",
      "metadata": {
        "colab": {
          "base_uri": "https://localhost:8080/"
        },
        "id": "u1ApzAXsyS5W",
        "outputId": "e8a08e8a-fcb4-4421-d9e8-0db2cdc95614"
      },
      "source": [
        "#Calculating the root mean squared error on the testing dataset\n",
        "RMSE_test=np.sqrt(mean_squared_error(test_arr['AQI'],test_arr['Predictions']))\n",
        "print('RMSE on the testing dataset = ',RMSE_test)\n",
        "print('India_AQI=',test_arr['AQI'].mean())"
      ],
      "execution_count": null,
      "outputs": [
        {
          "output_type": "stream",
          "name": "stdout",
          "text": [
            "RMSE on the testing dataset =  30.439749898722177\n",
            "India_AQI= 238.05046082949306\n"
          ]
        }
      ]
    },
    {
      "cell_type": "code",
      "metadata": {
        "id": "6lsSwEXGyU85"
      },
      "source": [
        "#Predicting using our model on the training dataset\n",
        "train_predictions = []\n",
        "\n",
        "first_eval_batch = scaled_train[:n_input]\n",
        "current_batch = first_eval_batch.reshape((1, n_input, n_features))\n",
        "\n",
        "for i in range(len(train-n_input)):\n",
        "      \n",
        "    current_pred = model.predict(current_batch)[0]\n",
        "    train_predictions.append(current_pred) \n",
        "    \n",
        "    current_batch = np.append(current_batch[:,1:,:],[[current_pred]],axis=1)"
      ],
      "execution_count": null,
      "outputs": []
    },
    {
      "cell_type": "code",
      "metadata": {
        "id": "QRvr487Xyqk1"
      },
      "source": [
        "train_predictions = scaler.inverse_transform(train_predictions)"
      ],
      "execution_count": null,
      "outputs": []
    },
    {
      "cell_type": "code",
      "metadata": {
        "colab": {
          "base_uri": "https://localhost:8080/"
        },
        "id": "1Qg1ZPyoyt6x",
        "outputId": "f9a70db9-bd78-486e-9f18-436420014317"
      },
      "source": [
        "print(train_predictions.shape)\n",
        "print(train_arr.shape)"
      ],
      "execution_count": null,
      "outputs": [
        {
          "output_type": "stream",
          "name": "stdout",
          "text": [
            "(48, 1)\n",
            "(48, 1)\n"
          ]
        }
      ]
    },
    {
      "cell_type": "code",
      "metadata": {
        "id": "yLPSrcpByt8o"
      },
      "source": [
        "train_arr['Predictions'] = train_predictions"
      ],
      "execution_count": null,
      "outputs": []
    },
    {
      "cell_type": "code",
      "metadata": {
        "colab": {
          "base_uri": "https://localhost:8080/",
          "height": 500
        },
        "id": "SCsbPZUzyuAX",
        "outputId": "0e6f78a7-282f-4c0b-f58b-0ccf71f36309"
      },
      "source": [
        "#Plotting the true values vs predicted values on training dataset\n",
        "plt.figure(figsize=(12,8))\n",
        "plt.plot(train_arr['AQI'],label = 'AQI')\n",
        "plt.plot(train_arr['Predictions'],label = 'Predictions')\n",
        "plt.legend()"
      ],
      "execution_count": null,
      "outputs": [
        {
          "output_type": "execute_result",
          "data": {
            "text/plain": [
              "<matplotlib.legend.Legend at 0x7fbefe69cd50>"
            ]
          },
          "metadata": {},
          "execution_count": 39
        },
        {
          "output_type": "display_data",
          "data": {
            "image/png": "[encoded data removed]",
            "text/plain": [
              "<Figure size 864x576 with 1 Axes>"
            ]
          },
          "metadata": {
            "needs_background": "light"
          }
        }
      ]
    },
    {
      "cell_type": "code",
      "metadata": {
        "colab": {
          "base_uri": "https://localhost:8080/"
        },
        "id": "1YfesOfOzbBR",
        "outputId": "ae2b2adb-1cd2-49f8-d9fd-3365828f3bec"
      },
      "source": [
        "#Calculating the root mean squared error on the testing dataset\n",
        "RMSE_train =np.sqrt(mean_squared_error(train_arr['AQI'],train_arr['Predictions']))\n",
        "print('RMSE on the training dataset = ',RMSE_train)\n",
        "print('India_AQI=',train_arr['AQI'].mean())"
      ],
      "execution_count": null,
      "outputs": [
        {
          "output_type": "stream",
          "name": "stdout",
          "text": [
            "RMSE on the training dataset =  54.87513246737866\n",
            "India_AQI= 275.1711046334552\n"
          ]
        }
      ]
    },
    {
      "cell_type": "code",
      "metadata": {
        "id": "X9rW-FuGzbEI"
      },
      "source": [
        "delhi_arr= delhi\n",
        "scaled_delhi = scaler.transform(delhi_arr)"
      ],
      "execution_count": null,
      "outputs": []
    },
    {
      "cell_type": "code",
      "metadata": {
        "colab": {
          "base_uri": "https://localhost:8080/",
          "height": 455
        },
        "id": "bvwlpMeWzpUW",
        "outputId": "9a30e428-96d7-4b03-eef6-f8695baf64b1"
      },
      "source": [
        "delhi_arr"
      ],
      "execution_count": null,
      "outputs": [
        {
          "output_type": "execute_result",
          "data": {
            "text/html": [
              "<div>\n",
              "<style scoped>\n",
              "    .dataframe tbody tr th:only-of-type {\n",
              "        vertical-align: middle;\n",
              "    }\n",
              "\n",
              "    .dataframe tbody tr th {\n",
              "        vertical-align: top;\n",
              "    }\n",
              "\n",
              "    .dataframe thead th {\n",
              "        text-align: right;\n",
              "    }\n",
              "</style>\n",
              "<table border=\"1\" class=\"dataframe\">\n",
              "  <thead>\n",
              "    <tr style=\"text-align: right;\">\n",
              "      <th></th>\n",
              "      <th>AQI</th>\n",
              "    </tr>\n",
              "    <tr>\n",
              "      <th>Date</th>\n",
              "      <th></th>\n",
              "    </tr>\n",
              "  </thead>\n",
              "  <tbody>\n",
              "    <tr>\n",
              "      <th>2015-01-01</th>\n",
              "      <td>342.290323</td>\n",
              "    </tr>\n",
              "    <tr>\n",
              "      <th>2015-02-01</th>\n",
              "      <td>327.928571</td>\n",
              "    </tr>\n",
              "    <tr>\n",
              "      <th>2015-03-01</th>\n",
              "      <td>256.064516</td>\n",
              "    </tr>\n",
              "    <tr>\n",
              "      <th>2015-04-01</th>\n",
              "      <td>305.266667</td>\n",
              "    </tr>\n",
              "    <tr>\n",
              "      <th>2015-05-01</th>\n",
              "      <td>348.580645</td>\n",
              "    </tr>\n",
              "    <tr>\n",
              "      <th>...</th>\n",
              "      <td>...</td>\n",
              "    </tr>\n",
              "    <tr>\n",
              "      <th>2020-03-01</th>\n",
              "      <td>135.838710</td>\n",
              "    </tr>\n",
              "    <tr>\n",
              "      <th>2020-04-01</th>\n",
              "      <td>113.000000</td>\n",
              "    </tr>\n",
              "    <tr>\n",
              "      <th>2020-05-01</th>\n",
              "      <td>148.645161</td>\n",
              "    </tr>\n",
              "    <tr>\n",
              "      <th>2020-06-01</th>\n",
              "      <td>125.733333</td>\n",
              "    </tr>\n",
              "    <tr>\n",
              "      <th>2020-07-01</th>\n",
              "      <td>101.000000</td>\n",
              "    </tr>\n",
              "  </tbody>\n",
              "</table>\n",
              "<p>67 rows × 1 columns</p>\n",
              "</div>"
            ],
            "text/plain": [
              "                   AQI\n",
              "Date                  \n",
              "2015-01-01  342.290323\n",
              "2015-02-01  327.928571\n",
              "2015-03-01  256.064516\n",
              "2015-04-01  305.266667\n",
              "2015-05-01  348.580645\n",
              "...                ...\n",
              "2020-03-01  135.838710\n",
              "2020-04-01  113.000000\n",
              "2020-05-01  148.645161\n",
              "2020-06-01  125.733333\n",
              "2020-07-01  101.000000\n",
              "\n",
              "[67 rows x 1 columns]"
            ]
          },
          "metadata": {},
          "execution_count": 43
        }
      ]
    },
    {
      "cell_type": "code",
      "metadata": {
        "id": "qBYA7rqfzpfA"
      },
      "source": [
        "#Making the future predictions using our model\n",
        "fut_predictions = []\n",
        "\n",
        "first_eval_batch = scaled_delhi[-n_input:]\n",
        "current_batch = first_eval_batch.reshape((1, n_input, n_features))\n",
        "\n",
        "for i in range(12):\n",
        "    \n",
        "    current_pred = model.predict(current_batch)[0]\n",
        "    \n",
        "    \n",
        "    fut_predictions.append(current_pred) \n",
        "    \n",
        "    current_batch = np.append(current_batch[:,1:,:],[[current_pred]],axis=1)"
      ],
      "execution_count": null,
      "outputs": []
    },
    {
      "cell_type": "code",
      "metadata": {
        "id": "PSKC-D9wzwGd"
      },
      "source": [
        "fut_predictions = scaler.inverse_transform(fut_predictions)"
      ],
      "execution_count": null,
      "outputs": []
    },
    {
      "cell_type": "code",
      "metadata": {
        "colab": {
          "base_uri": "https://localhost:8080/",
          "height": 282
        },
        "id": "-XcWTRCNzwO9",
        "outputId": "36f53294-9633-4364-ebac-9ee2d6a4d978"
      },
      "source": [
        "plt.plot(fut_predictions)"
      ],
      "execution_count": null,
      "outputs": [
        {
          "output_type": "execute_result",
          "data": {
            "text/plain": [
              "[<matplotlib.lines.Line2D at 0x7fbefe131b10>]"
            ]
          },
          "metadata": {},
          "execution_count": 46
        },
        {
          "output_type": "display_data",
          "data": {
            "image/png": "[encoded data removed]",
            "text/plain": [
              "<Figure size 432x288 with 1 Axes>"
            ]
          },
          "metadata": {
            "needs_background": "light"
          }
        }
      ]
    },
    {
      "cell_type": "code",
      "metadata": {
        "id": "2yozXg2jz3AC"
      },
      "source": [
        "complete_pred = np.concatenate((delhi_arr,fut_predictions))"
      ],
      "execution_count": null,
      "outputs": []
    },
    {
      "cell_type": "code",
      "metadata": {
        "colab": {
          "base_uri": "https://localhost:8080/",
          "height": 282
        },
        "id": "uFeFCx8dz3Ky",
        "outputId": "eba7d668-825a-4ce1-c2e8-102d9c92210e"
      },
      "source": [
        "plt.plot(complete_pred)"
      ],
      "execution_count": null,
      "outputs": [
        {
          "output_type": "execute_result",
          "data": {
            "text/plain": [
              "[<matplotlib.lines.Line2D at 0x7fbefe2bc790>]"
            ]
          },
          "metadata": {},
          "execution_count": 48
        },
        {
          "output_type": "display_data",
          "data": {
            "image/png": "[encoded data removed]",
            "text/plain": [
              "<Figure size 432x288 with 1 Axes>"
            ]
          },
          "metadata": {
            "needs_background": "light"
          }
        }
      ]
    }
  ]
}